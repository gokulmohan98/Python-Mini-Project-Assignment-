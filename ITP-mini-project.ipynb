{
 "cells": [
  {
   "cell_type": "markdown",
   "metadata": {},
   "source": [
    "## Q1. Create a Dictionary of lists to store the information of shipments given in the table"
   ]
  },
  {
   "cell_type": "code",
   "execution_count": 2,
   "metadata": {},
   "outputs": [
    {
     "data": {
      "text/plain": [
       "{101: [1, 3, '14/03/2020', '25/03/2020', 'Area1', 'Area6', 'Delivered', 198],\n",
       " 102: [4, 1, '18/06/2020', '09/07/2020', 'Area2', 'Area4', 'Delivered', 275],\n",
       " 103: [2, 3, '01/12/2020', 'Null', 'Area5', 'Area1', 'In-transit', 200],\n",
       " 104: [1, 5, '23/06/2020', '25/06/2020', 'Area1', 'Area4', 'Delivered', 314],\n",
       " 105: [3, 4, '29/08/2020', '10/09/2020', 'Area5', 'Area3', 'Delivered', 275],\n",
       " 106: [5, 2, '28/06/2020', 'Null', 'Area3', 'Area1', 'In-transit', 270]}"
      ]
     },
     "execution_count": 2,
     "metadata": {},
     "output_type": "execute_result"
    }
   ],
   "source": [
    "shipment = {\n",
    "    101 : [1, 3,  '14/03/2020', '25/03/2020', 'Area1', 'Area6', 'Delivered', 198],\n",
    "    102 : [4, 1,  '18/06/2020', '09/07/2020', 'Area2', 'Area4', 'Delivered', 275],\n",
    "    103 : [2, 3,  '01/12/2020', 'Null', 'Area5', 'Area1', 'In-transit', 200],\n",
    "    104 : [1, 5,  '23/06/2020', '25/06/2020', 'Area1', 'Area4', 'Delivered', 314],\n",
    "    105 : [3, 4,  '29/08/2020', '10/09/2020', 'Area5', 'Area3', 'Delivered', 275],\n",
    "    106 : [5, 2,  '28/06/2020', 'Null', 'Area3', 'Area1', 'In-transit', 270]\n",
    "}\n",
    "\n",
    "shipment"
   ]
  },
  {
   "cell_type": "markdown",
   "metadata": {},
   "source": [
    "## Q2. Create a Dictionary to store the information of clients given in the table."
   ]
  },
  {
   "cell_type": "code",
   "execution_count": 4,
   "metadata": {},
   "outputs": [
    {
     "data": {
      "text/plain": [
       "{1: 'Phillip', 2: 'Omega III', 3: 'Ramya', 4: 'Romesh', 5: 'John'}"
      ]
     },
     "execution_count": 4,
     "metadata": {},
     "output_type": "execute_result"
    }
   ],
   "source": [
    "clients = {\n",
    "    1 : 'Phillip',\n",
    "    2 : 'Omega III',\n",
    "    3 : 'Ramya',\n",
    "    4 : 'Romesh',\n",
    "    5 : 'John',\n",
    "}\n",
    "\n",
    "clients"
   ]
  },
  {
   "cell_type": "markdown",
   "metadata": {},
   "source": [
    "## Q3. Write a code to replace client’s id with their respective name in shipment dictionary using a loop and dictionary comprehension\n"
   ]
  },
  {
   "cell_type": "code",
   "execution_count": 3,
   "metadata": {},
   "outputs": [
    {
     "data": {
      "text/plain": [
       "{101: ['Phillip',\n",
       "  'Ramya',\n",
       "  '14/03/2020',\n",
       "  '25/03/2020',\n",
       "  'Area1',\n",
       "  'Area6',\n",
       "  'Delivered',\n",
       "  198],\n",
       " 102: ['Romesh',\n",
       "  'Phillip',\n",
       "  '18/06/2020',\n",
       "  '09/07/2020',\n",
       "  'Area2',\n",
       "  'Area4',\n",
       "  'Delivered',\n",
       "  275],\n",
       " 103: ['Omega III',\n",
       "  'Ramya',\n",
       "  '01/12/2020',\n",
       "  'Null',\n",
       "  'Area5',\n",
       "  'Area1',\n",
       "  'In-transit',\n",
       "  200],\n",
       " 104: ['Phillip',\n",
       "  'John',\n",
       "  '23/06/2020',\n",
       "  '25/06/2020',\n",
       "  'Area1',\n",
       "  'Area4',\n",
       "  'Delivered',\n",
       "  314],\n",
       " 105: ['Ramya',\n",
       "  'Romesh',\n",
       "  '29/08/2020',\n",
       "  '10/09/2020',\n",
       "  'Area5',\n",
       "  'Area3',\n",
       "  'Delivered',\n",
       "  275],\n",
       " 106: ['John',\n",
       "  'Omega III',\n",
       "  '28/06/2020',\n",
       "  'Null',\n",
       "  'Area3',\n",
       "  'Area1',\n",
       "  'In-transit',\n",
       "  270]}"
      ]
     },
     "execution_count": 3,
     "metadata": {},
     "output_type": "execute_result"
    }
   ],
   "source": [
    "for i in shipment:\n",
    "    if shipment[i][0] and shipment[i][1] in clients:\n",
    "        shipment[i][0] = clients[shipment[i][0]]\n",
    "        shipment[i][1] = clients[shipment[i][1]]\n",
    "shipment"
   ]
  },
  {
   "cell_type": "markdown",
   "metadata": {},
   "source": [
    "## Q4. Print all shipment details that are sent by Phillip"
   ]
  },
  {
   "cell_type": "code",
   "execution_count": 4,
   "metadata": {},
   "outputs": [
    {
     "name": "stdout",
     "output_type": "stream",
     "text": [
      "['Phillip', 'Ramya', '14/03/2020', '25/03/2020', 'Area1', 'Area6', 'Delivered', 198]\n",
      "['Phillip', 'John', '23/06/2020', '25/06/2020', 'Area1', 'Area4', 'Delivered', 314]\n"
     ]
    }
   ],
   "source": [
    "for i in shipment:\n",
    "    if shipment[i][0] == 'Phillip':\n",
    "        print(shipment[i])"
   ]
  },
  {
   "cell_type": "markdown",
   "metadata": {},
   "source": [
    "## Q5. Print all shipment details that are received by Ramya"
   ]
  },
  {
   "cell_type": "code",
   "execution_count": 5,
   "metadata": {},
   "outputs": [
    {
     "name": "stdout",
     "output_type": "stream",
     "text": [
      "['Phillip', 'Ramya', '14/03/2020', '25/03/2020', 'Area1', 'Area6', 'Delivered', 198]\n",
      "['Omega III', 'Ramya', '01/12/2020', 'Null', 'Area5', 'Area1', 'In-transit', 200]\n"
     ]
    }
   ],
   "source": [
    "for i in shipment:\n",
    "    if shipment[i][1] == 'Ramya':\n",
    "        print(shipment[i])"
   ]
  },
  {
   "cell_type": "markdown",
   "metadata": {},
   "source": [
    "## Q6. Print all shipments which are in 'In-Transit' status\n"
   ]
  },
  {
   "cell_type": "code",
   "execution_count": 6,
   "metadata": {
    "scrolled": true
   },
   "outputs": [
    {
     "name": "stdout",
     "output_type": "stream",
     "text": [
      "['Omega III', 'Ramya', '01/12/2020', 'Null', 'Area5', 'Area1', 'In-transit', 200]\n",
      "['John', 'Omega III', '28/06/2020', 'Null', 'Area3', 'Area1', 'In-transit', 270]\n"
     ]
    }
   ],
   "source": [
    "for i in shipment:\n",
    "    if shipment[i][-2] == 'In-transit':\n",
    "        print(shipment[i])"
   ]
  },
  {
   "cell_type": "markdown",
   "metadata": {},
   "source": [
    "## Q7. Print all shipments which are delivered within 7 days of courier Start date"
   ]
  },
  {
   "cell_type": "code",
   "execution_count": 7,
   "metadata": {},
   "outputs": [
    {
     "name": "stdout",
     "output_type": "stream",
     "text": [
      "104 ['Phillip', 'John', '23/06/2020', '25/06/2020', 'Area1', 'Area4', 'Delivered', 314]\n"
     ]
    }
   ],
   "source": [
    "from datetime import datetime\n",
    "\n",
    "for i in shipment:\n",
    "    if shipment[i][3] == 'Null' :\n",
    "        continue\n",
    "    else:\n",
    "        d1 = datetime.strptime(shipment[i][2], \"%d/%m/%Y\")\n",
    "        d2 = datetime.strptime(shipment[i][3], \"%d/%m/%Y\")\n",
    "        diff = d2 - d1\n",
    "        if(diff.days <= 7):\n",
    "            print(i,shipment[i])"
   ]
  },
  {
   "cell_type": "markdown",
   "metadata": {},
   "source": [
    "## Q8. Print all shipments which are delivered after 15 days of courier start date or not yet been delivered."
   ]
  },
  {
   "cell_type": "code",
   "execution_count": 8,
   "metadata": {},
   "outputs": [
    {
     "name": "stdout",
     "output_type": "stream",
     "text": [
      "102 ['Romesh', 'Phillip', '18/06/2020', '09/07/2020', 'Area2', 'Area4', 'Delivered', 275]\n",
      "103 ['Omega III', 'Ramya', '01/12/2020', 'Null', 'Area5', 'Area1', 'In-transit', 200]\n",
      "106 ['John', 'Omega III', '28/06/2020', 'Null', 'Area3', 'Area1', 'In-transit', 270]\n"
     ]
    }
   ],
   "source": [
    "for i in shipment:\n",
    "    if shipment[i][3] == 'Null':\n",
    "        print(i, shipment[i])\n",
    "    else:\n",
    "        d1 = datetime.strptime(shipment[i][2], \"%d/%m/%Y\")\n",
    "        d2 = datetime.strptime(shipment[i][3], \"%d/%m/%Y\")\n",
    "        diff = d2 - d1\n",
    "        if(diff.days > 15):\n",
    "            print(i,shipment[i])"
   ]
  },
  {
   "cell_type": "markdown",
   "metadata": {},
   "source": [
    "## Q9. Write a function find_all_routes to display all possible routes from senders location to receivers location given in the dictionary for each shipment.\n",
    "\n",
    "## Graph data structure is used to represent network of pickup and delivery nodes. Consider a below graph diagram for given nodes in the table where sender location and receiver location is represented by node with number.\n",
    "\n",
    "## Connection between two nodes shows route exists between those areas. E.g there exists a path from area 1 to area 2 but there is no direct route between area1 and area5. please note that this routes are bidirectional.\n",
    "\n",
    "## To reach to area5 from area1 , delivery person can take any route like 1-2-4-5 or 1-2-3-4-5.\n",
    "\n",
    "<img src = 'graph.png'>\n",
    "![graph](https://user-images.githubusercontent.com/52672873/197376767-c9f4fa85-d3a6-494f-864b-7468908ef3b6.png)\n",
    "\n",
    "## Any graph like the one shown above can be represented by matrix shown below. presence of 1 represents the route between nodes and 0 represents there is no direct route exist between the nodes. Create matrix for the network shown above and using this matrix find all possible routes from A to B. \n",
    "\n",
    "<img src = 'Matrix.png'>"
   ]
  },
  {
   "cell_type": "code",
   "execution_count": 9,
   "metadata": {},
   "outputs": [],
   "source": [
    "def find_all_routes(matrix, u, d, visited, path):\n",
    "    visited[u] = True\n",
    "    path.append(u+1)\n",
    "    if u == d:\n",
    "        print(path)\n",
    "    else:\n",
    "        for i in range(6):\n",
    "            if matrix[u][i] == 1 and (visited[i] == False):\n",
    "                find_all_routes(matrix, i, d, visited, path)\n",
    "                \n",
    "    path.pop()\n",
    "    visited[u]-False\n",
    "\n",
    "matrix = [[0, 1, 0, 0, 0, 1],\n",
    "          [1, 0, 1, 1, 0, 0],\n",
    "          [0, 1, 0, 1, 0, 0],\n",
    "          [0, 1, 1, 0, 1, 0],\n",
    "          [0, 0, 0, 1, 0, 0],\n",
    "          [1, 0, 0, 0, 0, 0]]\n",
    "\n",
    "visited = [False for i in range(6)]\n",
    "path = []"
   ]
  },
  {
   "cell_type": "code",
   "execution_count": 10,
   "metadata": {
    "scrolled": false
   },
   "outputs": [
    {
     "name": "stdout",
     "output_type": "stream",
     "text": [
      "Shipment ID:  101\n",
      "Sender's location:  1\n",
      "Reciever's location:  6\n",
      "All possible routes: \n",
      "[1, 6]\n",
      "-----------------------------------\n",
      "Shipment ID:  102\n",
      "Sender's location:  2\n",
      "Reciever's location:  4\n",
      "All possible routes: \n",
      "-----------------------------------\n",
      "Shipment ID:  103\n",
      "Sender's location:  5\n",
      "Reciever's location:  1\n",
      "All possible routes: \n",
      "-----------------------------------\n",
      "Shipment ID:  104\n",
      "Sender's location:  1\n",
      "Reciever's location:  4\n",
      "All possible routes: \n",
      "-----------------------------------\n",
      "Shipment ID:  105\n",
      "Sender's location:  5\n",
      "Reciever's location:  3\n",
      "All possible routes: \n",
      "-----------------------------------\n",
      "Shipment ID:  106\n",
      "Sender's location:  3\n",
      "Reciever's location:  1\n",
      "All possible routes: \n",
      "-----------------------------------\n"
     ]
    }
   ],
   "source": [
    "def show_all(ship):\n",
    "    for i in ship:\n",
    "        print('Shipment ID: ', i)\n",
    "        s = int(ship[i][4][-1])\n",
    "        print(\"Sender's location: \", s)\n",
    "        r = int(ship[i][5][-1])\n",
    "        print(\"Reciever's location: \", r)\n",
    "        print(\"All possible routes: \")\n",
    "        find_all_routes(matrix, s-1, r-1, visited, path)\n",
    "        print(\"-----------------------------------\")\n",
    "show_all(shipment)"
   ]
  }
 ],
 "metadata": {
  "kernelspec": {
   "display_name": "Python 3 (ipykernel)",
   "language": "python",
   "name": "python3"
  },
  "language_info": {
   "codemirror_mode": {
    "name": "ipython",
    "version": 3
   },
   "file_extension": ".py",
   "mimetype": "text/x-python",
   "name": "python",
   "nbconvert_exporter": "python",
   "pygments_lexer": "ipython3",
   "version": "3.9.12"
  }
 },
 "nbformat": 4,
 "nbformat_minor": 4
}
